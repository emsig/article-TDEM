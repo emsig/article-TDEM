{
 "cells": [
  {
   "cell_type": "markdown",
   "metadata": {},
   "source": [
    "# Select frequency-range for Fourier transform in CSEM modelling\n",
    "\n",
    "\n",
    "\n",
    "## Note\n",
    "- Depending on the signal the real or imaginary part is used:\n",
    "  - `signal >= 0`: Sine transform, imaginary part is used,\n",
    "  - `signal < 0`: Cosine transform, real part is used.\n",
    "- The 1D-model is for an inline-survey:\n",
    "  - `src = [0, 0, src_z]` (at the origin at a given depth),\n",
    "  - `rec = [off, 0, rec_z]` (in-line receiver at a given offset and depth)."
   ]
  },
  {
   "cell_type": "code",
   "execution_count": 1,
   "metadata": {
    "nbpresent": {
     "id": "4cf9c8a2-cf5f-45cd-b5da-0b1c7fe23108"
    }
   },
   "outputs": [],
   "source": [
    "import emg3d\n",
    "import empymod\n",
    "import numpy as np\n",
    "import matplotlib.pyplot as plt"
   ]
  },
  {
   "cell_type": "markdown",
   "metadata": {
    "nbpresent": {
     "id": "4cf9c8a2-cf5f-45cd-b5da-0b1c7fe23108"
    }
   },
   "source": [
    "### `frequency-selection`\n",
    "\n",
    "The frequency-selection GUI has its own repo with more examples.\n",
    "Check-out: https://github.com/empymod/frequency-selection\n",
    "The relevant part for this publication is copied here into `freqselect.py` in this directory."
   ]
  },
  {
   "cell_type": "code",
   "execution_count": 2,
   "metadata": {
    "nbpresent": {
     "id": "4cf9c8a2-cf5f-45cd-b5da-0b1c7fe23108"
    }
   },
   "outputs": [],
   "source": [
    "import freqselect  # Script in this directory"
   ]
  },
  {
   "cell_type": "code",
   "execution_count": 3,
   "metadata": {},
   "outputs": [],
   "source": [
    "%matplotlib ipympl"
   ]
  },
  {
   "cell_type": "code",
   "execution_count": 4,
   "metadata": {},
   "outputs": [],
   "source": [
    "#%%html\n",
    "#<style>\n",
    "#  .output_wrapper .ui-dialog-titlebar {display: none;}\n",
    "#  .container { width:100% !important; }\n",
    "#</style>"
   ]
  },
  {
   "cell_type": "markdown",
   "metadata": {},
   "source": [
    "## Model"
   ]
  },
  {
   "cell_type": "code",
   "execution_count": 5,
   "metadata": {},
   "outputs": [],
   "source": [
    "time = np.logspace(-2, 3, 301)  # Times; select a wide range.\n",
    "src_z = 950                     # Source depth.\n",
    "rec_z = 1000                    # Receiver depth.\n",
    "depth = [0, 1000, 2000, 2100]   # Interfaces (m).\n",
    "res = [2e14, 0.3, 1, 100, 1]    # Resistivities (Ohm.m).\n",
    "\n",
    "rec = [np.array([1.5, 3, 6, 12])*1e3, np.zeros(4), rec_z]\n",
    "\n",
    "# Collect it in a dict.\n",
    "model = {\n",
    "    'src': [0, 0, src_z],\n",
    "    'rec': rec,\n",
    "    'depth': depth,\n",
    "    'res': res,\n",
    "}"
   ]
  },
  {
   "cell_type": "markdown",
   "metadata": {},
   "source": [
    "## Interactive frequency-selection"
   ]
  },
  {
   "cell_type": "code",
   "execution_count": 6,
   "metadata": {
    "scrolled": false
   },
   "outputs": [
    {
     "data": {
      "application/vnd.jupyter.widget-view+json": {
       "model_id": "007cc973223c4af587829d4b5ca04d96",
       "version_major": 2,
       "version_minor": 0
      },
      "text/plain": [
       "Canvas(toolbar=Toolbar(toolitems=[('Home', 'Reset original view', 'home', 'home'), ('Back', 'Back to previous …"
      ]
     },
     "metadata": {},
     "output_type": "display_data"
    },
    {
     "data": {
      "application/vnd.jupyter.widget-view+json": {
       "model_id": "e1e22d49ef88416098770f6cf190918f",
       "version_major": 2,
       "version_minor": 0
      },
      "text/plain": [
       "HBox(children=(VBox(children=(interactive(children=(IntSlider(value=5, continuous_update=False, description='p…"
      ]
     },
     "metadata": {},
     "output_type": "display_data"
    }
   ],
   "source": [
    "GUI1 = freqselect.InteractiveFrequency(\n",
    "    src_z=src_z,\n",
    "    rec_z=rec_z,\n",
    "    depth=depth,\n",
    "    res=res,\n",
    "    time=time,\n",
    "    ft='fftlog',\n",
    "    xtfact=3,\n",
    "    linlog='log',\n",
    ")\n",
    "#plt.savefig('../figures/GUI-FFTLog-log.pdf', bbox_inches='tight')"
   ]
  },
  {
   "cell_type": "code",
   "execution_count": 7,
   "metadata": {
    "scrolled": false
   },
   "outputs": [
    {
     "data": {
      "application/vnd.jupyter.widget-view+json": {
       "model_id": "9816ef1b070b4e1183e9256fb3757860",
       "version_major": 2,
       "version_minor": 0
      },
      "text/plain": [
       "HBox(children=(VBox(children=(interactive(children=(IntSlider(value=5, continuous_update=False, description='p…"
      ]
     },
     "metadata": {},
     "output_type": "display_data"
    }
   ],
   "source": [
    "GUI2 = freqselect.InteractiveFrequency(\n",
    "    src_z=src_z,\n",
    "    rec_z=rec_z,\n",
    "    depth=depth,\n",
    "    res=res,\n",
    "    time=time,\n",
    "    ft='dlf',\n",
    "    ftarg={'dlf': 'key_81_CosSin_2009'},\n",
    "    xtfact=3,\n",
    "    linlog='linear',\n",
    ")\n",
    "#plt.savefig('../figures/GUI-DLF-lin.pdf', bbox_inches='tight')"
   ]
  },
  {
   "cell_type": "code",
   "execution_count": 8,
   "metadata": {
    "scrolled": false
   },
   "outputs": [
    {
     "data": {
      "application/vnd.jupyter.widget-view+json": {
       "model_id": "33ca518abbe44c97a7d57b2305580adf",
       "version_major": 2,
       "version_minor": 0
      },
      "text/plain": [
       "HBox(children=(VBox(children=(interactive(children=(IntSlider(value=5, continuous_update=False, description='p…"
      ]
     },
     "metadata": {},
     "output_type": "display_data"
    }
   ],
   "source": [
    "GUI = freqselect.InteractiveFrequency(\n",
    "    src_z=src_z,\n",
    "    rec_z=rec_z,\n",
    "    depth=depth,\n",
    "    res=res,\n",
    "    time=time,\n",
    "    ft='fftlog',\n",
    "    xtfact=3,\n",
    ")"
   ]
  },
  {
   "cell_type": "markdown",
   "metadata": {},
   "source": [
    "## Create a `Fourier` instance using the above parameters"
   ]
  },
  {
   "cell_type": "code",
   "execution_count": 9,
   "metadata": {},
   "outputs": [
    {
     "name": "stdout",
     "output_type": "stream",
     "text": [
      "   time        [s] :  0.01 - 1000 : 301  [min-max; #]\n",
      "   Fourier         :  FFTLog\n",
      "     > pts_per_dec :  5\n",
      "     > add_dec     :  [-2.  1.]\n",
      "     > q           :  0.0\n",
      "   Req. freq  [Hz] :  2.00364E-06 - 126.421 : 40  [min-max; #]\n",
      "   Calc. freq [Hz] :  0.00126421 - 7.97664 : 20  [min-max; #]\n"
     ]
    }
   ],
   "source": [
    "Fourier = emg3d.utils.Fourier(\n",
    "    time=GUI.time,      # Current times from the GUI.\n",
    "    fmin=GUI.fmin,      # Current fmin from the GUI.\n",
    "    fmax=GUI.fmax,      # Current fmax from the GUI.\n",
    "    signal=GUI.signal,  # Current signal from the GUI.\n",
    "    ft=GUI.ft,          # Current Fourier transform from the GUI.\n",
    "    ftarg=GUI.ftarg,    # Current FT arguments from the GUI.\n",
    ")"
   ]
  },
  {
   "cell_type": "markdown",
   "metadata": {},
   "source": [
    "### Calculate $f-$ and $t-$domain responses"
   ]
  },
  {
   "cell_type": "code",
   "execution_count": 10,
   "metadata": {},
   "outputs": [
    {
     "name": "stdout",
     "output_type": "stream",
     "text": [
      "\n",
      ":: empymod END; runtime = 0:00:00.328559 :: 1 kernel call(s)\n",
      "\n",
      "\n",
      ":: empymod END; runtime = 0:00:00.049715 :: 1 kernel call(s)\n",
      "\n",
      "\n",
      ":: empymod END; runtime = 0:00:00.034113 :: 1 kernel call(s)\n",
      "\n",
      "\n",
      ":: empymod END; runtime = 0:00:00.327273 :: 1 kernel call(s)\n",
      "\n"
     ]
    }
   ],
   "source": [
    "freq_dense = np.logspace(np.log10(Fourier.freq_req.min()/2), np.log10(Fourier.freq_req.max()*2), 301)\n",
    "fdata_dense = empymod.dipole(freqtime=freq_dense, **model)\n",
    "fdata_comp = empymod.dipole(freqtime=Fourier.freq_req, **model)\n",
    "fdata_calc = empymod.dipole(freqtime=Fourier.freq_calc, **model)                    # What we could model in 3D.\n",
    "tdata_comp = empymod.dipole(freqtime=Fourier.time, signal=Fourier.signal, **model)  # For comparison reasons."
   ]
  },
  {
   "cell_type": "markdown",
   "metadata": {},
   "source": [
    "### Fourier transform\n",
    "\n",
    "**Note:** The `fdata_req`-step is not necessary, that happens internally when calling `freq2time`. We just do it so we can plot the result."
   ]
  },
  {
   "cell_type": "code",
   "execution_count": 11,
   "metadata": {},
   "outputs": [],
   "source": [
    "# Pre-allocate arrays.\n",
    "fdata_req = np.zeros((Fourier.freq_req.size, rec[0].size), dtype=complex)\n",
    "tdata = np.zeros((Fourier.time.size, rec[0].size))\n",
    "\n",
    "# Loop over offsets.\n",
    "for i, off in enumerate(rec[0]):\n",
    "    fdata_req[:, i] = Fourier.interpolate(fdata_calc[:, i])\n",
    "    tdata[:, i] = Fourier.freq2time(fdata_calc[:, i], off)\n",
    "    \n",
    "fd_err = 100*abs((fdata_req-fdata_comp)/fdata_comp)\n",
    "td_err = 100*abs((tdata-tdata_comp)/tdata_comp)"
   ]
  },
  {
   "cell_type": "markdown",
   "metadata": {},
   "source": [
    "## Plot it"
   ]
  },
  {
   "cell_type": "code",
   "execution_count": 12,
   "metadata": {},
   "outputs": [
    {
     "data": {
      "application/vnd.jupyter.widget-view+json": {
       "model_id": "295e12f8ea00490a9c9e10739036f337",
       "version_major": 2,
       "version_minor": 0
      },
      "text/plain": [
       "Canvas(toolbar=Toolbar(toolitems=[('Home', 'Reset original view', 'home', 'home'), ('Back', 'Back to previous …"
      ]
     },
     "metadata": {},
     "output_type": "display_data"
    }
   ],
   "source": [
    "ls = ['-', '--', '-.', ':']\n",
    "mk = ['o', '*', 'v', 'd']\n",
    "ms = [5, 6, 6, 5]\n",
    "\n",
    "plt.figure(figsize=(9, 5))\n",
    "\n",
    "# f-domain\n",
    "ax1 = plt.subplot2grid((6, 2), (0, 0), rowspan=4)\n",
    "plt.title('(a) frequency domain')\n",
    "\n",
    "for i, off in enumerate(rec[0]):\n",
    "    norm = max(abs(fdata_req[:, i].imag))  # Normalize by max\n",
    "    plt.plot(freq_dense, fdata_dense[:, i].imag/norm, f'.6', lw=2)\n",
    "    plt.plot(Fourier.freq_req[~Fourier.freq_calc_i], fdata_req[~Fourier.freq_calc_i, i].imag/norm, 'k.')\n",
    "    plt.plot(Fourier.freq_calc, fdata_calc[:, i].imag/norm, f'C{i}{mk[i]}', ms=ms[i])\n",
    "    \n",
    "    plt.plot(-1, fdata_calc[0, i].imag, f'C{i}{ls[i]}{mk[i]}', ms=ms[i], label=off/1e3)\n",
    "\n",
    "plt.ylabel('Normalized field ($\\Im(E)\\ /\\ \\mathrm{max}|\\Im(E)|$)')\n",
    "plt.xscale('log')\n",
    "plt.legend(title='Offset (km)', loc=4)\n",
    "plt.grid(axis='y', c='0.9')\n",
    "ax1.set_xticklabels([])\n",
    "\n",
    "# f-domain error\n",
    "ax2 = plt.subplot2grid((6, 2), (4, 0), rowspan=2)\n",
    "\n",
    "for i in range(fd_err.shape[1]):\n",
    "    plt.plot(Fourier.freq_req, fd_err[:, i], ls[i], lw=2)\n",
    "# plt.plot(Fourier.freq_req[~Fourier.freq_calc_i], err[~Fourier.freq_calc_i, ii], 'k.')\n",
    "# plt.plot(Fourier.freq_calc, err[Fourier.freq_calc_i, ii], 'C0.')\n",
    "plt.axhline(1, color='.4', zorder=1)\n",
    "\n",
    "plt.xscale('log')\n",
    "plt.yscale('log')\n",
    "plt.xlabel('Frequency (Hz)')\n",
    "plt.ylabel('Rel. error %')\n",
    "plt.xlim(ax1.get_xlim())\n",
    "plt.ylim([8e-2, 120])\n",
    "plt.yticks([0.01, 0.1, 1, 10, 100], ('0.01', '0.1', '1', '10', '100'))\n",
    "plt.grid(axis='y', c='0.9')\n",
    "\n",
    "# t-domain\n",
    "ax3 = plt.subplot2grid((6, 2), (0, 1), rowspan=4)\n",
    "plt.title('(b) time domain')\n",
    "\n",
    "for i, off in enumerate(rec[0]):\n",
    "    norm = max(tdata[:, i])\n",
    "    plt.plot(time, tdata_comp[:, i]/norm, '.6', lw=2)\n",
    "    plt.plot(time, tdata[:, i]/norm, ls[i], lw=2, label=off/1e3)\n",
    "\n",
    "plt.ylabel('Normalized field ($E\\ / \\ \\mathrm{max}|E|$)')\n",
    "plt.xscale('log')\n",
    "plt.yscale('log')\n",
    "plt.xlim([.05, 300])\n",
    "plt.ylim([1e-3, 2e0])\n",
    "# plt.legend(title='Offset (km)', ncol=2)\n",
    "plt.grid(axis='y', c='0.9')\n",
    "\n",
    "ax3.yaxis.set_ticks_position('right')\n",
    "ax3.yaxis.set_label_position('right')\n",
    "ax3.set_xticklabels([])\n",
    "\n",
    "# t-domain error\n",
    "ax4 = plt.subplot2grid((6, 2), (4, 1), rowspan=2)\n",
    "\n",
    "for i in range(td_err.shape[1]):\n",
    "    plt.plot(time, td_err[:, i], ls[i])\n",
    "plt.axhline(1, color='.4', zorder=1)\n",
    "\n",
    "plt.xscale('log')\n",
    "plt.yscale('log')\n",
    "plt.xlabel('Time (s)')\n",
    "plt.ylabel('Rel. error %')\n",
    "plt.xlim(ax3.get_xlim())\n",
    "plt.ylim([8e-2, 120])\n",
    "plt.yticks([0.01, 0.1, 1, 10, 100], ('0.01', '0.1', '1', '10', '100'))\n",
    "ax4.yaxis.tick_right()\n",
    "ax4.yaxis.set_label_position(\"right\")\n",
    "plt.grid(axis='y', c='0.9')\n",
    "\n",
    "# Switch off spines\n",
    "ax1.spines['top'].set_visible(False)\n",
    "ax1.spines['right'].set_visible(False)\n",
    "ax2.spines['top'].set_visible(False)\n",
    "ax2.spines['right'].set_visible(False)\n",
    "ax3.spines['top'].set_visible(False)\n",
    "ax3.spines['left'].set_visible(False)\n",
    "ax4.spines['top'].set_visible(False)\n",
    "ax4.spines['left'].set_visible(False)\n",
    "\n",
    "plt.tight_layout()\n",
    "#plt.savefig('../figures/multi-offset.pdf', bbox_inches='tight')\n",
    "plt.show()"
   ]
  },
  {
   "cell_type": "code",
   "execution_count": 13,
   "metadata": {},
   "outputs": [
    {
     "data": {
      "text/html": [
       "<table style='border: 3px solid #ddd;'>\n",
       "  <tr>\n",
       "     <td style='text-align: center; font-weight: bold; font-size: 1.2em; border: 2px solid #fff;' colspan='6'>Thu Oct 15 19:29:26 2020 CEST</td>\n",
       "  </tr>\n",
       "  <tr>\n",
       "    <td style='text-align: right; background-color: #ccc; border: 2px solid #fff;'>OS</td>\n",
       "    <td style='text-align: left; border: 2px solid #fff;'>Linux</td>\n",
       "    <td style='text-align: right; background-color: #ccc; border: 2px solid #fff;'>CPU(s)</td>\n",
       "    <td style='text-align: left; border: 2px solid #fff;'>4</td>\n",
       "    <td style='text-align: right; background-color: #ccc; border: 2px solid #fff;'>Machine</td>\n",
       "    <td style='text-align: left; border: 2px solid #fff;'>x86_64</td>\n",
       "  </tr>\n",
       "  <tr>\n",
       "    <td style='text-align: right; background-color: #ccc; border: 2px solid #fff;'>Architecture</td>\n",
       "    <td style='text-align: left; border: 2px solid #fff;'>64bit</td>\n",
       "    <td style='text-align: right; background-color: #ccc; border: 2px solid #fff;'>RAM</td>\n",
       "    <td style='text-align: left; border: 2px solid #fff;'>15.5 GB</td>\n",
       "    <td style='text-align: right; background-color: #ccc; border: 2px solid #fff;'>Environment</td>\n",
       "    <td style='text-align: left; border: 2px solid #fff;'>Jupyter</td>\n",
       "  </tr>\n",
       "  <tr>\n",
       "     <td style='text-align: center; border: 2px solid #fff;' colspan='6'>Python 3.8.6 | packaged by conda-forge | (default, Oct  7 2020, 19:08:05) \n",
       "[GCC 7.5.0]</td>\n",
       "  </tr>\n",
       "  <tr>\n",
       "    <td style='text-align: right; background-color: #ccc; border: 2px solid #fff;'>empymod</td>\n",
       "    <td style='text-align: left; border: 2px solid #fff;'>2.0.3</td>\n",
       "    <td style='text-align: right; background-color: #ccc; border: 2px solid #fff;'>numpy</td>\n",
       "    <td style='text-align: left; border: 2px solid #fff;'>1.19.2</td>\n",
       "    <td style='text-align: right; background-color: #ccc; border: 2px solid #fff;'>scipy</td>\n",
       "    <td style='text-align: left; border: 2px solid #fff;'>1.5.2</td>\n",
       "  </tr>\n",
       "  <tr>\n",
       "    <td style='text-align: right; background-color: #ccc; border: 2px solid #fff;'>numba</td>\n",
       "    <td style='text-align: left; border: 2px solid #fff;'>0.50.1</td>\n",
       "    <td style='text-align: right; background-color: #ccc; border: 2px solid #fff;'>emg3d</td>\n",
       "    <td style='text-align: left; border: 2px solid #fff;'>0.13.1.dev4+g907839c</td>\n",
       "    <td style='text-align: right; background-color: #ccc; border: 2px solid #fff;'>xarray</td>\n",
       "    <td style='text-align: left; border: 2px solid #fff;'>0.16.1</td>\n",
       "  </tr>\n",
       "  <tr>\n",
       "    <td style='text-align: right; background-color: #ccc; border: 2px solid #fff;'>discretize</td>\n",
       "    <td style='text-align: left; border: 2px solid #fff;'>0.5.1</td>\n",
       "    <td style='text-align: right; background-color: #ccc; border: 2px solid #fff;'>h5py</td>\n",
       "    <td style='text-align: left; border: 2px solid #fff;'>2.10.0</td>\n",
       "    <td style='text-align: right; background-color: #ccc; border: 2px solid #fff;'>matplotlib</td>\n",
       "    <td style='text-align: left; border: 2px solid #fff;'>3.3.2</td>\n",
       "  </tr>\n",
       "  <tr>\n",
       "    <td style='text-align: right; background-color: #ccc; border: 2px solid #fff;'>tqdm</td>\n",
       "    <td style='text-align: left; border: 2px solid #fff;'>4.47.0</td>\n",
       "    <td style='text-align: right; background-color: #ccc; border: 2px solid #fff;'>IPython</td>\n",
       "    <td style='text-align: left; border: 2px solid #fff;'>7.16.1</td>\n",
       "    <td style= border: 2px solid #fff;'></td>\n",
       "    <td style= border: 2px solid #fff;'></td>\n",
       "  </tr>\n",
       "  <tr>\n",
       "     <td style='text-align: center; background-color: #ddd;border: 2px solid #fff;' colspan='6'>Intel(R) Math Kernel Library Version 2020.0.1 Product Build 20200208 for Intel(R) 64 architecture applications</td>\n",
       "  </tr>\n",
       "</table>"
      ],
      "text/plain": [
       "\n",
       "--------------------------------------------------------------------------------\n",
       "  Date: Thu Oct 15 19:29:26 2020 CEST\n",
       "\n",
       "                OS : Linux\n",
       "            CPU(s) : 4\n",
       "           Machine : x86_64\n",
       "      Architecture : 64bit\n",
       "               RAM : 15.5 GB\n",
       "       Environment : Jupyter\n",
       "\n",
       "  Python 3.8.6 | packaged by conda-forge | (default, Oct  7 2020, 19:08:05)\n",
       "  [GCC 7.5.0]\n",
       "\n",
       "           empymod : 2.0.3\n",
       "             numpy : 1.19.2\n",
       "             scipy : 1.5.2\n",
       "             numba : 0.50.1\n",
       "             emg3d : 0.13.1.dev4+g907839c\n",
       "            xarray : 0.16.1\n",
       "        discretize : 0.5.1\n",
       "              h5py : 2.10.0\n",
       "        matplotlib : 3.3.2\n",
       "              tqdm : 4.47.0\n",
       "           IPython : 7.16.1\n",
       "\n",
       "  Intel(R) Math Kernel Library Version 2020.0.1 Product Build 20200208 for\n",
       "  Intel(R) 64 architecture applications\n",
       "--------------------------------------------------------------------------------"
      ]
     },
     "execution_count": 13,
     "metadata": {},
     "output_type": "execute_result"
    }
   ],
   "source": [
    "emg3d.Report(empymod)"
   ]
  }
 ],
 "metadata": {
  "anaconda-cloud": {},
  "kernelspec": {
   "display_name": "Python 3",
   "language": "python",
   "name": "python3"
  },
  "language_info": {
   "codemirror_mode": {
    "name": "ipython",
    "version": 3
   },
   "file_extension": ".py",
   "mimetype": "text/x-python",
   "name": "python",
   "nbconvert_exporter": "python",
   "pygments_lexer": "ipython3",
   "version": "3.8.6"
  },
  "nbpresent": {
   "slides": {
    "2a1825bf-35ff-4370-b129-ba51addc5c69": {
     "id": "2a1825bf-35ff-4370-b129-ba51addc5c69",
     "prev": "3d6a47d5-4fff-46fe-b063-1afce739efbb",
     "regions": {
      "c651f707-58e0-4b88-b861-0c6608fca1d5": {
       "attrs": {
        "height": 0.8,
        "width": 0.8,
        "x": 0.1,
        "y": 0.1
       },
       "content": {
        "cell": "6900d774-2898-4efd-9798-78bc8f08d0da",
        "part": "whole"
       },
       "id": "c651f707-58e0-4b88-b861-0c6608fca1d5"
      }
     }
    },
    "3d6a47d5-4fff-46fe-b063-1afce739efbb": {
     "id": "3d6a47d5-4fff-46fe-b063-1afce739efbb",
     "prev": "aa9c2bcf-e54f-4714-946e-18921616a039",
     "regions": {
      "e461f359-4831-4693-84fe-480f6c1db14a": {
       "attrs": {
        "height": 0.8,
        "width": 0.8,
        "x": 0.1,
        "y": 0.1
       },
       "content": {
        "cell": "1a31a0e1-bcf6-452d-aabb-c48c94a9e85d",
        "part": "whole"
       },
       "id": "e461f359-4831-4693-84fe-480f6c1db14a"
      }
     }
    },
    "54253e19-21cb-4738-94f0-109d6bbb2bde": {
     "id": "54253e19-21cb-4738-94f0-109d6bbb2bde",
     "prev": "5f5302d2-4747-4c5a-a6c3-1d0fc8f7fb66",
     "regions": {
      "1735c9df-b5c2-40d7-b562-b869e4b966cd": {
       "attrs": {
        "height": 0.8,
        "width": 0.8,
        "x": 0.1,
        "y": 0.1
       },
       "content": {
        "cell": "f85d2094-6d09-4627-a0ab-7cab37ed3c9f",
        "part": "whole"
       },
       "id": "1735c9df-b5c2-40d7-b562-b869e4b966cd"
      }
     }
    },
    "5f5302d2-4747-4c5a-a6c3-1d0fc8f7fb66": {
     "id": "5f5302d2-4747-4c5a-a6c3-1d0fc8f7fb66",
     "prev": "fc333044-619d-44bd-8c7f-0a53dd4b220a",
     "regions": {
      "41618366-0a77-4f2d-9d9b-77ed062d6959": {
       "attrs": {
        "height": 0.8,
        "width": 0.8,
        "x": 0.1,
        "y": 0.1
       },
       "content": {
        "cell": "83e23522-1665-45d6-8bc0-869b981a0e66",
        "part": "whole"
       },
       "id": "41618366-0a77-4f2d-9d9b-77ed062d6959"
      }
     }
    },
    "aa9c2bcf-e54f-4714-946e-18921616a039": {
     "id": "aa9c2bcf-e54f-4714-946e-18921616a039",
     "prev": "54253e19-21cb-4738-94f0-109d6bbb2bde",
     "regions": {
      "1b48f280-81c6-4746-8fff-091d4b10b448": {
       "attrs": {
        "height": 0.8,
        "width": 0.8,
        "x": 0.1,
        "y": 0.1
       },
       "content": {
        "cell": "0631a68b-7d4d-4326-abff-8628f2004afc",
        "part": "whole"
       },
       "id": "1b48f280-81c6-4746-8fff-091d4b10b448"
      }
     }
    },
    "b5a49768-441a-449c-bbf3-d2a7febf0235": {
     "id": "b5a49768-441a-449c-bbf3-d2a7febf0235",
     "prev": null,
     "regions": {
      "7ae15b0a-8675-4544-8708-f2e95dda286f": {
       "attrs": {
        "height": 0.8,
        "width": 0.8,
        "x": 0.1,
        "y": 0.1
       },
       "content": {
        "cell": "4cf9c8a2-cf5f-45cd-b5da-0b1c7fe23108",
        "part": "whole"
       },
       "id": "7ae15b0a-8675-4544-8708-f2e95dda286f"
      }
     }
    },
    "bc930404-89e7-4fc9-a1f9-e9edc1f4d1d4": {
     "id": "bc930404-89e7-4fc9-a1f9-e9edc1f4d1d4",
     "prev": "2a1825bf-35ff-4370-b129-ba51addc5c69",
     "regions": {
      "76296bab-9070-4528-b79c-558debc8f675": {
       "attrs": {
        "height": 0.8,
        "width": 0.8,
        "x": 0.1,
        "y": 0.1
       },
       "content": {
        "cell": "3ac01b43-1f53-4902-a857-5a0b0a6ef59b",
        "part": "whole"
       },
       "id": "76296bab-9070-4528-b79c-558debc8f675"
      }
     }
    },
    "fc333044-619d-44bd-8c7f-0a53dd4b220a": {
     "id": "fc333044-619d-44bd-8c7f-0a53dd4b220a",
     "prev": "b5a49768-441a-449c-bbf3-d2a7febf0235",
     "regions": {
      "fea6658a-c555-450d-b33b-0e44fe7b1cf8": {
       "attrs": {
        "height": 0.8,
        "width": 0.8,
        "x": 0.1,
        "y": 0.1
       },
       "content": {
        "cell": "d0a7e487-d7b9-418c-810f-f12d33c88c85",
        "part": "whole"
       },
       "id": "fea6658a-c555-450d-b33b-0e44fe7b1cf8"
      }
     }
    }
   },
   "themes": {}
  }
 },
 "nbformat": 4,
 "nbformat_minor": 1
}
